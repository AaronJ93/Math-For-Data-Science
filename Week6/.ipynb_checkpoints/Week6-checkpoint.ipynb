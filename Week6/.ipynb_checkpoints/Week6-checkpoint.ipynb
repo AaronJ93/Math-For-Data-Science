{
 "cells": [
  {
   "cell_type": "code",
   "execution_count": 3,
   "id": "9bdd0974-2e11-4149-ad8d-f32ccd29394f",
   "metadata": {},
   "outputs": [
    {
     "name": "stdout",
     "output_type": "stream",
     "text": [
      "(a) Number of rows in dataset: 20640\n",
      "(b) Target vector is 'median_house_value' with shape (20640,)\n",
      "(c) Added feature 'bedrooms_per_household' (avg bedrooms per household).\n",
      "(d) New feature DataFrame head:\n",
      "   housing_median_age  median_income  bedrooms_per_household\n",
      "0                  41         8.3252                1.023810\n",
      "1                  21         8.3014                0.971880\n",
      "2                  52         7.2574                1.073446\n",
      "3                  52         5.6431                1.073059\n",
      "4                  52         3.8462                1.081081 \n",
      "\n",
      "(e) First five rows of standardized features:\n",
      "   housing_median_age  median_income  bedrooms_per_household\n",
      "0            0.982119       2.344709                     NaN\n",
      "1           -0.607004       2.332181                     NaN\n",
      "2            1.856137       1.782656                     NaN\n",
      "3            1.856137       0.932945                     NaN\n",
      "4            1.856137      -0.012881                     NaN\n"
     ]
    }
   ],
   "source": [
    "import numpy as np\n",
    "import pandas as pd\n",
    "\n",
    "# 1. Data Normalization\n",
    "def normalize(x: np.ndarray) -> np.ndarray:\n",
    "    \"\"\"\n",
    "    Scale an array to [0,1] by (x - min) / (max - min).\n",
    "    \"\"\"\n",
    "    x_min = x.min()\n",
    "    x_max = x.max()\n",
    "    return (x - x_min) / (x_max - x_min)\n",
    "\n",
    "# 2. Data Standardization\n",
    "def standardize(x: np.ndarray) -> np.ndarray:\n",
    "    \"\"\"\n",
    "    Z‑score standardize an array: (x - mean) / std.\n",
    "    \"\"\"\n",
    "    mu = x.mean()\n",
    "    sigma = x.std(ddof=1)  # sample std\n",
    "    return (x - mu) / sigma\n",
    "\n",
    "\n",
    "# 3. Working with the DataFrame\n",
    "if __name__ == \"__main__\":\n",
    "    # (a) Load the CSV and report number of rows\n",
    "    df = pd.read_csv(\"calif_housing_data.csv\")\n",
    "    n_rows = df.shape[0]\n",
    "    print(f\"(a) Number of rows in dataset: {n_rows}\")\n",
    "\n",
    "    # (b) Define the target vector (what we want to predict)\n",
    "    #     According to your description, this is the 'median_house_value' column\n",
    "    y = df[\"median_house_value\"]\n",
    "    print(f\"(b) Target vector is 'median_house_value' with shape {y.shape}\")\n",
    "\n",
    "    # (c) Create new feature: avg bedrooms per household\n",
    "    df[\"bedrooms_per_household\"] = df[\"total_bedrooms\"] / df[\"households\"]\n",
    "    print(\"(c) Added feature 'bedrooms_per_household' (avg bedrooms per household).\")\n",
    "\n",
    "    # (d) Subset to three features: median_age, median_income, bedrooms_per_household\n",
    "    features = df[[\"housing_median_age\", \"median_income\", \"bedrooms_per_household\"]].copy()\n",
    "    print(\"(d) New feature DataFrame head:\")\n",
    "    print(features.head(), \"\\n\")\n",
    "\n",
    "    # (e) Standardize these three features\n",
    "    features_std = features.apply(lambda col: standardize(col.values), axis=0)\n",
    "    features_std = pd.DataFrame(features_std, columns=features.columns)\n",
    "    print(\"(e) First five rows of standardized features:\")\n",
    "    print(features_std.head())\n"
   ]
  },
  {
   "cell_type": "code",
   "execution_count": null,
   "id": "b96a63c4-42a9-4beb-b13d-4316e0201fde",
   "metadata": {},
   "outputs": [],
   "source": []
  }
 ],
 "metadata": {
  "kernelspec": {
   "display_name": "Python 3 (ipykernel)",
   "language": "python",
   "name": "python3"
  }
 },
 "nbformat": 4,
 "nbformat_minor": 5
}
